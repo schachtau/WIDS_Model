{
  "metadata": {
    "kernelspec": {
      "language": "python",
      "display_name": "Python 3",
      "name": "python3"
    },
    "language_info": {
      "name": "python",
      "version": "3.7.6",
      "mimetype": "text/x-python",
      "codemirror_mode": {
        "name": "ipython",
        "version": 3
      },
      "pygments_lexer": "ipython3",
      "nbconvert_exporter": "python",
      "file_extension": ".py"
    },
    "kaggle": {
      "accelerator": "none",
      "dataSources": [
        {
          "sourceId": 22359,
          "databundleVersionId": 1852555,
          "sourceType": "competition"
        }
      ],
      "dockerImageVersionId": 30042,
      "isInternetEnabled": true,
      "language": "python",
      "sourceType": "notebook",
      "isGpuEnabled": false
    },
    "colab": {
      "name": "WiDS2021 - Final Model for Diabetes Prediction",
      "provenance": [],
      "include_colab_link": true
    }
  },
  "nbformat_minor": 0,
  "nbformat": 4,
  "cells": [
    {
      "cell_type": "markdown",
      "metadata": {
        "id": "view-in-github",
        "colab_type": "text"
      },
      "source": [
        "<a href=\"https://colab.research.google.com/github/schachtau/WIDS_Model/blob/main/WiDS2021_Final_Model_for_Diabetes_Prediction.ipynb\" target=\"_parent\"><img src=\"https://colab.research.google.com/assets/colab-badge.svg\" alt=\"Open In Colab\"/></a>"
      ]
    },
    {
      "source": [
        "# IMPORTANT: SOME KAGGLE DATA SOURCES ARE PRIVATE\n",
        "# RUN THIS CELL IN ORDER TO IMPORT YOUR KAGGLE DATA SOURCES.\n",
        "import kagglehub\n",
        "kagglehub.login()\n"
      ],
      "metadata": {
        "id": "a70g--ATjzU6"
      },
      "cell_type": "code",
      "outputs": [],
      "execution_count": null
    },
    {
      "source": [
        "# IMPORTANT: RUN THIS CELL IN ORDER TO IMPORT YOUR KAGGLE DATA SOURCES,\n",
        "# THEN FEEL FREE TO DELETE THIS CELL.\n",
        "# NOTE: THIS NOTEBOOK ENVIRONMENT DIFFERS FROM KAGGLE'S PYTHON\n",
        "# ENVIRONMENT SO THERE MAY BE MISSING LIBRARIES USED BY YOUR\n",
        "# NOTEBOOK.\n",
        "\n",
        "widsdatathon2021_path = kagglehub.competition_download('widsdatathon2021')\n",
        "\n",
        "print('Data source import complete.')\n"
      ],
      "metadata": {
        "id": "5HmcSnTOjzU7"
      },
      "cell_type": "code",
      "outputs": [],
      "execution_count": null
    },
    {
      "cell_type": "markdown",
      "source": [
        "The objective of this notebook is to create models to predict diabetes in ICU patients. A detailed explanation can be accessed [here](https://towardsdatascience.com/wids-datathon-2021-my-first-kaggle-datathon-806a99cbfb19?sk=b4883e44c6985380c213cf313d690405).\n"
      ],
      "metadata": {
        "id": "zAs_QoiijzU8"
      }
    },
    {
      "cell_type": "code",
      "source": [
        "# This Python 3 environment comes with many helpful analytics libraries installed\n",
        "# It is defined by the kaggle/python Docker image: https://github.com/kaggle/docker-python\n",
        "# For example, here's several helpful packages to load\n",
        "\n",
        "import numpy as np # linear algebra\n",
        "import pandas as pd # data processing, CSV file I/O (e.g. pd.read_csv)\n",
        "\n",
        "from numpy import mean\n",
        "from numpy import std\n",
        "\n",
        "import seaborn as sns\n",
        "import matplotlib.pyplot as plt\n",
        "from sklearn.preprocessing import StandardScaler\n",
        "from catboost import Pool, cv, CatBoostClassifier\n",
        "\n",
        "from sklearn.feature_selection import RFECV\n",
        "\n",
        "from sklearn.metrics import classification_report, auc, roc_auc_score, accuracy_score, recall_score, precision_score, f1_score, plot_confusion_matrix, confusion_matrix\n",
        "from sklearn.tree import DecisionTreeClassifier\n",
        "from sklearn.pipeline import Pipeline\n",
        "from sklearn.preprocessing import LabelEncoder\n",
        "from sklearn.preprocessing import OneHotEncoder\n",
        "\n",
        "from sklearn import model_selection\n",
        "from sklearn.model_selection import train_test_split, KFold, cross_val_score, RepeatedStratifiedKFold\n",
        "from sklearn.linear_model import LogisticRegression\n",
        "from sklearn import tree\n",
        "from sklearn.neighbors import KNeighborsClassifier\n",
        "from sklearn.experimental import enable_hist_gradient_boosting\n",
        "from sklearn.ensemble import RandomForestClassifier, HistGradientBoostingClassifier, VotingClassifier\n",
        "from mlxtend.classifier import StackingClassifier\n",
        "from sklearn.svm import SVC\n",
        "\n",
        "from xgboost import XGBClassifier\n",
        "import lightgbm as lgb\n",
        "import xgboost as xgb\n",
        "\n",
        "\n",
        "from imblearn.over_sampling import SMOTE\n",
        "from sklearn.metrics import classification_report,confusion_matrix, roc_curve\n",
        "#parameter tuning\n",
        "from sklearn.model_selection import GridSearchCV\n",
        "from matplotlib.legend_handler import HandlerLine2D\n",
        "\n",
        "\n",
        "# Input data files are available in the read-only \"../input/\" directory\n",
        "# For example, running this (by clicking run or pressing Shift+Enter) will list all files under the input directory\n",
        "\n",
        "import os\n",
        "for dirname, _, filenames in os.walk('/kaggle/input'):\n",
        "    for filename in filenames:\n",
        "        print(os.path.join(dirname, filename))\n",
        "\n",
        "# You can write up to 20GB to the current directory (/kaggle/working/) that gets preserved as output when you create a version using \"Save & Run All\"\n",
        "# You can also write temporary files to /kaggle/temp/, but they won't be saved outside of the current session"
      ],
      "metadata": {
        "_uuid": "8f2839f25d086af736a60e9eeb907d3b93b6e0e5",
        "_cell_guid": "b1076dfc-b9ad-4769-8c92-a6c4dae69d19",
        "trusted": true,
        "execution": {
          "iopub.status.busy": "2024-12-09T17:37:25.938591Z",
          "iopub.execute_input": "2024-12-09T17:37:25.93899Z",
          "iopub.status.idle": "2024-12-09T17:37:27.067115Z",
          "shell.execute_reply.started": "2024-12-09T17:37:25.938954Z",
          "shell.execute_reply": "2024-12-09T17:37:27.06622Z"
        },
        "id": "FlnRfsNSjzU8"
      },
      "outputs": [],
      "execution_count": null
    },
    {
      "cell_type": "code",
      "source": [
        "#loading dataset\n",
        "train_dataset = pd.read_csv('/kaggle/input/widsdatathon2021/TrainingWiDS2021.csv')\n",
        "test_dataset = pd.read_csv('/kaggle/input/widsdatathon2021/UnlabeledWiDS2021.csv')\n",
        "data_dict = pd.read_csv('/kaggle/input/widsdatathon2021/DataDictionaryWiDS2021.csv')\n",
        "print(train_dataset.shape)\n",
        "print(test_dataset.shape)"
      ],
      "metadata": {
        "_uuid": "d629ff2d2480ee46fbb7e2d37f6b5fab8052498a",
        "_cell_guid": "79c7e3d0-c299-4dcb-8224-4455121ee9b0",
        "trusted": true,
        "execution": {
          "iopub.status.busy": "2024-12-09T17:37:27.069663Z",
          "iopub.execute_input": "2024-12-09T17:37:27.069981Z",
          "iopub.status.idle": "2024-12-09T17:37:29.905923Z",
          "shell.execute_reply.started": "2024-12-09T17:37:27.069949Z",
          "shell.execute_reply": "2024-12-09T17:37:29.905044Z"
        },
        "id": "70ZFv34NjzU9"
      },
      "outputs": [],
      "execution_count": null
    },
    {
      "cell_type": "code",
      "source": [
        "train_dataset['train_data']=1\n",
        "test_dataset['train_data']=0\n",
        "test_dataset['diabetes_mellitus']=np.NaN\n",
        "all_data=pd.concat([train_dataset, test_dataset])\n"
      ],
      "metadata": {
        "trusted": true,
        "execution": {
          "iopub.status.busy": "2024-12-09T17:37:29.907177Z",
          "iopub.execute_input": "2024-12-09T17:37:29.907447Z",
          "iopub.status.idle": "2024-12-09T17:37:30.069929Z",
          "shell.execute_reply.started": "2024-12-09T17:37:29.90742Z",
          "shell.execute_reply": "2024-12-09T17:37:30.068929Z"
        },
        "id": "GA8NhBc4jzU9"
      },
      "outputs": [],
      "execution_count": null
    },
    {
      "cell_type": "code",
      "source": [
        "#analysing apache_cols and vital_cols as they have lot of duplicates\n",
        "apache_cols = all_data.columns[all_data.columns.str.contains('apache')]\n",
        "apache_cols = [c.split('_apache')[0] for c in apache_cols]\n",
        "\n",
        "vital_cols = all_data.columns[all_data.columns.str.startswith('d1') & all_data.columns.str.contains('_max')]\n",
        "vital_cols = [(c.split('d1_')[1]).split('_max')[0] for c in vital_cols]\n",
        "\n",
        "common_cols = [c for c in apache_cols if c in vital_cols]\n",
        "\n",
        "for c in common_cols:\n",
        "    var1 = f\"d1_{c}_max\"\n",
        "    var2 = f\"{c}_apache\"\n",
        "    notna_condition = all_data[var1].notna() & all_data[var2].notna()\n",
        "\n",
        "    print(f\"{c} has {np.round((all_data[notna_condition][var2]==(all_data[notna_condition][var1])).sum()/len(all_data[notna_condition])*100,2)}% duplicates\")\n",
        "\n",
        "\n"
      ],
      "metadata": {
        "trusted": true,
        "execution": {
          "iopub.status.busy": "2024-12-09T17:37:30.071296Z",
          "iopub.execute_input": "2024-12-09T17:37:30.071645Z",
          "iopub.status.idle": "2024-12-09T17:37:32.159435Z",
          "shell.execute_reply.started": "2024-12-09T17:37:30.071611Z",
          "shell.execute_reply": "2024-12-09T17:37:32.158369Z"
        },
        "id": "0uDE8VgRjzU9"
      },
      "outputs": [],
      "execution_count": null
    },
    {
      "cell_type": "code",
      "source": [
        "#filling missing values for d1 cols using corresponding apache cols\n",
        "for c in common_cols:\n",
        "    if c not in ['resprate', 'temp']:\n",
        "        # Fill empty d1_..._max column from available ..._apache column\n",
        "        all_data[f\"d1_{c}_max\"] = np.where((all_data[f\"d1_{c}_max\"].isna()\n",
        "                                            & all_data[f\"{c}_apache\"].notna()),\n",
        "                                           all_data[f\"{c}_apache\"],\n",
        "                                           all_data[f\"d1_{c}_max\"])\n",
        "\n",
        "        # Drop ..._apache column\n",
        "        all_data.drop(f\"{c}_apache\", axis=1, inplace=True)\n",
        "\n",
        "\n",
        "# Fill empty d1_heartrate_max column from available heart_rate_apache column\n",
        "all_data[\"d1_heartrate_max\"] = np.where((all_data[\"d1_heartrate_max\"].isna()\n",
        "                                    & all_data[\"heart_rate_apache\"].notna()),\n",
        "                                   all_data[\"heart_rate_apache\"],\n",
        "                                   all_data[\"d1_heartrate_max\"])\n",
        "\n",
        "# Drop ..._apache column\n",
        "all_data.drop(\"heart_rate_apache\", axis=1, inplace=True)\n"
      ],
      "metadata": {
        "trusted": true,
        "execution": {
          "iopub.status.busy": "2024-12-09T17:37:32.162481Z",
          "iopub.execute_input": "2024-12-09T17:37:32.162808Z",
          "iopub.status.idle": "2024-12-09T17:37:32.785087Z",
          "shell.execute_reply.started": "2024-12-09T17:37:32.162776Z",
          "shell.execute_reply": "2024-12-09T17:37:32.783771Z"
        },
        "id": "UKfaZQ9wjzU-"
      },
      "outputs": [],
      "execution_count": null
    },
    {
      "cell_type": "code",
      "source": [
        "#interchanging f1_max and f1_min values where f1_max<f1_min\n",
        "for col in vital_cols:\n",
        "    min_col = f\"d1_{col}_min\"\n",
        "    max_col = f\"d1_{col}_max\"\n",
        "    all_data.loc[all_data[min_col] > all_data[max_col],[min_col, max_col]] = all_data.loc[all_data[min_col] > all_data[max_col], [max_col, min_col]].values\n",
        ""
      ],
      "metadata": {
        "trusted": true,
        "execution": {
          "iopub.status.busy": "2024-12-09T17:37:32.789342Z",
          "iopub.execute_input": "2024-12-09T17:37:32.7898Z",
          "iopub.status.idle": "2024-12-09T17:37:32.923594Z",
          "shell.execute_reply.started": "2024-12-09T17:37:32.789763Z",
          "shell.execute_reply": "2024-12-09T17:37:32.922693Z"
        },
        "id": "VoCONnROjzU-"
      },
      "outputs": [],
      "execution_count": null
    },
    {
      "cell_type": "code",
      "source": [
        "#identifying columns having same values and dropping them\n",
        "cols_to_drop = []\n",
        "for i, col_1 in enumerate(all_data.columns):\n",
        "    for col_2 in all_data.columns[(i+1):]:\n",
        "        if all_data[col_1].equals(all_data[col_2]):\n",
        "            print(f\"{col_1} and {col_2} are identical.\")\n",
        "            cols_to_drop.append(col_2)\n",
        "\n",
        "all_data.drop(cols_to_drop, axis=1, inplace = True)"
      ],
      "metadata": {
        "trusted": true,
        "execution": {
          "iopub.status.busy": "2024-12-09T17:37:32.925164Z",
          "iopub.execute_input": "2024-12-09T17:37:32.925588Z",
          "iopub.status.idle": "2024-12-09T17:37:37.766703Z",
          "shell.execute_reply.started": "2024-12-09T17:37:32.925537Z",
          "shell.execute_reply": "2024-12-09T17:37:37.765629Z"
        },
        "id": "tNufFKZ0jzU-"
      },
      "outputs": [],
      "execution_count": null
    },
    {
      "cell_type": "markdown",
      "source": [
        "The oxigenation index or Horowitz index is the ratio of partial pressure of oxygen in blood (PaO2) and the fraction of oxygen in the inhaled air (FiO2). Therefore, we can fill the missing values of d1_pao2fio2ratio_max with pao2_apache/fio2_apache."
      ],
      "metadata": {
        "id": "KFwuDY1ijzU-"
      }
    },
    {
      "cell_type": "code",
      "source": [
        "#filling missing values for 'd1_pao2fio2ratio_max'\n",
        "all_data[\"d1_pao2fio2ratio_max\"] = np.where((all_data[\"pao2_apache\"].notna()\n",
        "                                             & all_data[\"fio2_apache\"].notna()\n",
        "                                             & all_data[\"d1_pao2fio2ratio_max\"].isna() ),\n",
        "                                            all_data[\"pao2_apache\"] / all_data[\"fio2_apache\"],\n",
        "                                            all_data[\"d1_pao2fio2ratio_max\"])"
      ],
      "metadata": {
        "trusted": true,
        "execution": {
          "iopub.status.busy": "2024-12-09T17:37:37.768064Z",
          "iopub.execute_input": "2024-12-09T17:37:37.768368Z",
          "iopub.status.idle": "2024-12-09T17:37:37.778079Z",
          "shell.execute_reply.started": "2024-12-09T17:37:37.768327Z",
          "shell.execute_reply": "2024-12-09T17:37:37.777213Z"
        },
        "id": "QLvXaOjijzU-"
      },
      "outputs": [],
      "execution_count": null
    },
    {
      "cell_type": "code",
      "source": [
        "#dropping h1 cols as h1 columns have lot of missing values and h1 and d1 values are similar\n",
        "drop_columns = all_data.columns[all_data.columns.str.startswith('h1')]\n",
        "all_data.drop(drop_columns, axis=1, inplace=True)"
      ],
      "metadata": {
        "trusted": true,
        "execution": {
          "iopub.status.busy": "2024-12-09T17:37:37.779736Z",
          "iopub.execute_input": "2024-12-09T17:37:37.78014Z",
          "iopub.status.idle": "2024-12-09T17:37:37.829375Z",
          "shell.execute_reply.started": "2024-12-09T17:37:37.780097Z",
          "shell.execute_reply": "2024-12-09T17:37:37.828012Z"
        },
        "id": "qkdR1ZXBjzU_"
      },
      "outputs": [],
      "execution_count": null
    },
    {
      "cell_type": "code",
      "source": [
        "all_data.drop(columns = ['Unnamed: 0', 'encounter_id', 'hospital_id', 'readmission_status'], inplace=True)"
      ],
      "metadata": {
        "trusted": true,
        "execution": {
          "iopub.status.busy": "2024-12-09T17:37:37.831131Z",
          "iopub.execute_input": "2024-12-09T17:37:37.831599Z",
          "iopub.status.idle": "2024-12-09T17:37:37.8807Z",
          "shell.execute_reply.started": "2024-12-09T17:37:37.83155Z",
          "shell.execute_reply": "2024-12-09T17:37:37.879631Z"
        },
        "id": "yEVAWmaujzU_"
      },
      "outputs": [],
      "execution_count": null
    },
    {
      "cell_type": "code",
      "source": [
        "#Dropping rows with age=0\n",
        "all_data = all_data[all_data['age']>=16].reset_index(drop=True)\n",
        "#filling missing values of 'ethnicity' col as 'Other/Unknown' as we have more than 5000 rows with unknown value\n",
        "all_data['ethnicity'] = all_data['ethnicity'].fillna('Other/Unknown')\n",
        "all_data['gender'] = all_data['gender'].fillna('M')"
      ],
      "metadata": {
        "trusted": true,
        "execution": {
          "iopub.status.busy": "2024-12-09T17:37:37.882184Z",
          "iopub.execute_input": "2024-12-09T17:37:37.882638Z",
          "iopub.status.idle": "2024-12-09T17:37:38.003663Z",
          "shell.execute_reply.started": "2024-12-09T17:37:37.882589Z",
          "shell.execute_reply": "2024-12-09T17:37:38.00258Z"
        },
        "id": "d65Y1LhejzU_"
      },
      "outputs": [],
      "execution_count": null
    },
    {
      "cell_type": "code",
      "source": [
        "all_data['height'] = all_data.groupby('gender')['height'].transform(lambda x: x.fillna(x.mean()))\n",
        "all_data['weight'] = all_data.groupby('gender')['weight'].transform(lambda x: x.fillna(x.mean()))\n",
        "all_data['bmi'] = all_data.groupby('gender')['bmi'].transform(lambda x: x.fillna(x.mean()))"
      ],
      "metadata": {
        "trusted": true,
        "execution": {
          "iopub.status.busy": "2024-12-09T17:37:38.005159Z",
          "iopub.execute_input": "2024-12-09T17:37:38.005592Z",
          "iopub.status.idle": "2024-12-09T17:37:38.113852Z",
          "shell.execute_reply.started": "2024-12-09T17:37:38.005548Z",
          "shell.execute_reply": "2024-12-09T17:37:38.112831Z"
        },
        "id": "S1rNP9UdjzU_"
      },
      "outputs": [],
      "execution_count": null
    },
    {
      "cell_type": "code",
      "source": [
        "all_data.loc[all_data['hospital_admit_source'] == 'Acute Care/Floor', 'hospital_admit_source'] = 'Floor'\n",
        "all_data.loc[all_data['hospital_admit_source'] == 'Step-Down Unit (SDU)', 'hospital_admit_source'] = 'SDU'\n",
        "all_data.loc[all_data['hospital_admit_source'] == 'ICU to SDU', 'hospital_admit_source'] = 'SDU'\n",
        "all_data.loc[all_data['hospital_admit_source'] == 'Other ICU', 'hospital_admit_source'] = 'ICU'\n",
        "all_data.loc[all_data['hospital_admit_source'] == 'PACU', 'hospital_admit_source'] = 'Recovery Room'\n",
        "all_data.loc[all_data['hospital_admit_source'] == 'SDU', 'hospital_admit_source'] = 'ICU'\n",
        "all_data.loc[all_data['hospital_admit_source'] == 'Chest Pain Center', 'hospital_admit_source'] = 'Other'\n",
        "all_data.loc[all_data['hospital_admit_source'] == 'Observation', 'hospital_admit_source'] = 'Other'\n",
        "all_data['hospital_admit_source'].fillna('Other', inplace = True)\n",
        "\n",
        "all_data['icu_admit_source'].fillna(all_data['hospital_admit_source'], inplace = True)\n",
        "all_data.loc[all_data['icu_admit_source'] == 'Operating Room', 'icu_admit_source'] = 'Operating Room / Recovery'\n",
        "all_data.loc[all_data['icu_admit_source'] == 'Emergency Department', 'icu_admit_source'] = 'Accident & Emergency'\n",
        "all_data.loc[all_data['icu_admit_source'] == 'Direct Admit', 'icu_admit_source'] = 'Other'"
      ],
      "metadata": {
        "trusted": true,
        "execution": {
          "iopub.status.busy": "2024-12-09T17:37:38.115461Z",
          "iopub.execute_input": "2024-12-09T17:37:38.116097Z",
          "iopub.status.idle": "2024-12-09T17:37:38.264719Z",
          "shell.execute_reply.started": "2024-12-09T17:37:38.116048Z",
          "shell.execute_reply": "2024-12-09T17:37:38.263452Z"
        },
        "id": "A_9YEVvejzU_"
      },
      "outputs": [],
      "execution_count": null
    },
    {
      "cell_type": "code",
      "source": [
        "categories = all_data.dtypes[all_data.dtypes == \"object\"].index\n",
        "numeric_cols = all_data.dtypes[all_data.dtypes != \"object\"].index\n",
        "# Imputing numerical values\n",
        "all_data[numeric_cols] = all_data[numeric_cols].fillna(all_data[numeric_cols].mean())"
      ],
      "metadata": {
        "trusted": true,
        "execution": {
          "iopub.status.busy": "2024-12-09T17:37:38.266828Z",
          "iopub.execute_input": "2024-12-09T17:37:38.267329Z",
          "iopub.status.idle": "2024-12-09T17:37:38.54669Z",
          "shell.execute_reply.started": "2024-12-09T17:37:38.267279Z",
          "shell.execute_reply": "2024-12-09T17:37:38.545249Z"
        },
        "id": "SvdQwPs9jzU_"
      },
      "outputs": [],
      "execution_count": null
    },
    {
      "cell_type": "code",
      "source": [
        "#dummy1 = pd.get_dummies(all_data[['ethnicity', 'gender', 'hospital_admit_source', 'icu_admit_source', 'icu_stay_type', 'icu_type', 'train_test']])\n",
        "\n",
        "all_dummies = pd.get_dummies(all_data[categories])\n",
        "\n",
        "all_dummies.head()"
      ],
      "metadata": {
        "trusted": true,
        "execution": {
          "iopub.status.busy": "2024-12-09T17:37:38.548338Z",
          "iopub.execute_input": "2024-12-09T17:37:38.548771Z",
          "iopub.status.idle": "2024-12-09T17:37:38.667727Z",
          "shell.execute_reply.started": "2024-12-09T17:37:38.548724Z",
          "shell.execute_reply": "2024-12-09T17:37:38.666704Z"
        },
        "id": "-KO5icPnjzU_"
      },
      "outputs": [],
      "execution_count": null
    },
    {
      "cell_type": "code",
      "source": [
        "all_data = pd.concat([all_data, all_dummies], axis = 1)\n",
        "all_data = all_data.drop(categories, axis = 1)\n",
        "all_data.head()"
      ],
      "metadata": {
        "trusted": true,
        "execution": {
          "iopub.status.busy": "2024-12-09T17:37:38.669014Z",
          "iopub.execute_input": "2024-12-09T17:37:38.669293Z",
          "iopub.status.idle": "2024-12-09T17:37:38.858816Z",
          "shell.execute_reply.started": "2024-12-09T17:37:38.669266Z",
          "shell.execute_reply": "2024-12-09T17:37:38.857669Z"
        },
        "id": "BOAAZgMwjzU_"
      },
      "outputs": [],
      "execution_count": null
    },
    {
      "cell_type": "markdown",
      "source": [
        "# Outlier Detection"
      ],
      "metadata": {
        "id": "2q6uyRRZjzU_"
      }
    },
    {
      "cell_type": "code",
      "source": [
        "train_data = all_data[all_data['train_data']==1]\n",
        "train_data.shape"
      ],
      "metadata": {
        "trusted": true,
        "execution": {
          "iopub.status.busy": "2024-12-09T17:37:38.860603Z",
          "iopub.execute_input": "2024-12-09T17:37:38.860948Z",
          "iopub.status.idle": "2024-12-09T17:37:38.915682Z",
          "shell.execute_reply.started": "2024-12-09T17:37:38.860917Z",
          "shell.execute_reply": "2024-12-09T17:37:38.9144Z"
        },
        "id": "OKrbWD_cjzU_"
      },
      "outputs": [],
      "execution_count": null
    },
    {
      "cell_type": "code",
      "source": [
        "test_data = all_data[all_data['train_data']==0]\n",
        "test_data.shape"
      ],
      "metadata": {
        "trusted": true,
        "execution": {
          "iopub.status.busy": "2024-12-09T17:37:38.917609Z",
          "iopub.execute_input": "2024-12-09T17:37:38.918324Z",
          "iopub.status.idle": "2024-12-09T17:37:38.931903Z",
          "shell.execute_reply.started": "2024-12-09T17:37:38.918253Z",
          "shell.execute_reply": "2024-12-09T17:37:38.930768Z"
        },
        "id": "rNLzYJv-jzU_"
      },
      "outputs": [],
      "execution_count": null
    },
    {
      "cell_type": "code",
      "source": [
        "def subset_by_iqr(df, column, whisker_width=1.5):\n",
        "    \"\"\"Remove outliers from a dataframe by column, including optional\n",
        "       whiskers, removing rows for which the column value are\n",
        "       less than Q1-1.5IQR or greater than Q3+1.5IQR.\n",
        "    Args:\n",
        "        df (`:obj:pd.DataFrame`): A pandas dataframe to subset\n",
        "        column (str): Name of the column to calculate the subset from.\n",
        "        whisker_width (float): Optional, loosen the IQR filter by a\n",
        "                               factor of `whisker_width` * IQR.\n",
        "    Returns:\n",
        "        (`:obj:pd.DataFrame`): Filtered dataframe\n",
        "    \"\"\"\n",
        "    # Calculate Q1, Q2 and IQR\n",
        "    q1 = df[column].quantile(0.25)\n",
        "    q3 = df[column].quantile(0.75)\n",
        "    iqr = q3 - q1\n",
        "    # Apply filter with respect to IQR, including optional whiskers\n",
        "    filter = (df[column] >= q1 - whisker_width*iqr) & (df[column] <= q3 + whisker_width*iqr)\n",
        "    return df.loc[filter]\n",
        "\n",
        "\n",
        "#imp_features = ['d1_glucose_max', 'd1_glucose_min', 'd1_creatinine_max', 'd1_bun_max', 'bmi', 'd1_hemaglobin_max', 'd1_sysbp_max', 'd1_wbc_max', 'd1_heartrate_max', 'pre_icu_los_days', 'apache_3j_diagnosis', 'd1_sysbp_min', 'd1_platelets_max']\n",
        "#imp_features = ['d1_glucose_max', 'd1_glucose_min', 'd1_creatinine_max', 'd1_bun_max', 'bmi', 'd1_hemaglobin_max', 'd1_sysbp_max', 'd1_wbc_max', 'd1_heartrate_max', 'pre_icu_los_days', 'apache_3j_diagnosis', 'd1_sysbp_min', 'd1_platelets_max']\n",
        "\n",
        "for feature in all_data.columns:\n",
        "    cleaned_train_data = subset_by_iqr(train_data, feature, whisker_width=1.5)\n",
        "\n",
        "cleaned_train_data.shape"
      ],
      "metadata": {
        "trusted": true,
        "execution": {
          "iopub.status.busy": "2024-12-09T17:37:38.933157Z",
          "iopub.execute_input": "2024-12-09T17:37:38.933435Z",
          "iopub.status.idle": "2024-12-09T17:37:45.000555Z",
          "shell.execute_reply.started": "2024-12-09T17:37:38.933403Z",
          "shell.execute_reply": "2024-12-09T17:37:44.999382Z"
        },
        "id": "npYfFLvVjzVA"
      },
      "outputs": [],
      "execution_count": null
    },
    {
      "cell_type": "code",
      "source": [
        "all_data=pd.concat([cleaned_train_data, test_data])\n",
        "all_data.shape"
      ],
      "metadata": {
        "trusted": true,
        "execution": {
          "iopub.status.busy": "2024-12-09T17:37:45.001751Z",
          "iopub.execute_input": "2024-12-09T17:37:45.00203Z",
          "iopub.status.idle": "2024-12-09T17:37:45.075986Z",
          "shell.execute_reply.started": "2024-12-09T17:37:45.002004Z",
          "shell.execute_reply": "2024-12-09T17:37:45.074984Z"
        },
        "id": "I4xwNi62jzVA"
      },
      "outputs": [],
      "execution_count": null
    },
    {
      "cell_type": "markdown",
      "source": [
        "# Removing correlated features"
      ],
      "metadata": {
        "id": "cifZDFefjzVA"
      }
    },
    {
      "cell_type": "code",
      "source": [
        "def get_correlation(data, threshold):\n",
        "    corr_col = set()\n",
        "    corrmat = data.corr()\n",
        "    for i in range(len(corrmat.columns)):\n",
        "        for j in range(i):\n",
        "            if abs(corrmat.iloc[i, j])> threshold:\n",
        "                colname = corrmat.columns[i]\n",
        "                corr_col.add(colname)\n",
        "    return corr_col"
      ],
      "metadata": {
        "trusted": true,
        "execution": {
          "iopub.status.busy": "2024-12-09T17:37:45.07758Z",
          "iopub.execute_input": "2024-12-09T17:37:45.077836Z",
          "iopub.status.idle": "2024-12-09T17:37:45.084312Z",
          "shell.execute_reply.started": "2024-12-09T17:37:45.077811Z",
          "shell.execute_reply": "2024-12-09T17:37:45.083288Z"
        },
        "id": "LPaIQf97jzVA"
      },
      "outputs": [],
      "execution_count": null
    },
    {
      "cell_type": "code",
      "source": [
        "#all_data = all_data.drop('train_test')\n",
        "corr_features = get_correlation(all_data, 0.80)\n",
        "len(corr_features)"
      ],
      "metadata": {
        "trusted": true,
        "execution": {
          "iopub.status.busy": "2024-12-09T17:37:45.085927Z",
          "iopub.execute_input": "2024-12-09T17:37:45.086227Z",
          "iopub.status.idle": "2024-12-09T17:37:49.885795Z",
          "shell.execute_reply.started": "2024-12-09T17:37:45.086197Z",
          "shell.execute_reply": "2024-12-09T17:37:49.884708Z"
        },
        "id": "PEQzjXJujzVA"
      },
      "outputs": [],
      "execution_count": null
    },
    {
      "cell_type": "code",
      "source": [
        "all_data_uncorr = all_data.drop(labels=corr_features, axis = 1)\n",
        "print('original size of data: ',all_data.shape)\n",
        "print('After removing co related features: ',all_data_uncorr.shape)"
      ],
      "metadata": {
        "trusted": true,
        "execution": {
          "iopub.status.busy": "2024-12-09T17:37:49.887347Z",
          "iopub.execute_input": "2024-12-09T17:37:49.887672Z",
          "iopub.status.idle": "2024-12-09T17:37:49.988045Z",
          "shell.execute_reply.started": "2024-12-09T17:37:49.887642Z",
          "shell.execute_reply": "2024-12-09T17:37:49.986872Z"
        },
        "id": "4Mr5sLNsjzVA"
      },
      "outputs": [],
      "execution_count": null
    },
    {
      "cell_type": "code",
      "source": [
        "data = all_data_uncorr[all_data_uncorr.train_data==1].drop(['train_data'], axis =1)\n",
        "x = data.drop(['diabetes_mellitus'], axis =1)\n",
        "y = data['diabetes_mellitus']\n",
        "x_train,x_val,y_train,y_val = train_test_split(x,y,test_size=0.2, random_state = 40)\n",
        "test = all_data_uncorr[all_data.train_data==0].drop(['train_data', 'diabetes_mellitus'], axis =1)"
      ],
      "metadata": {
        "trusted": true,
        "execution": {
          "iopub.status.busy": "2024-12-09T17:37:49.98953Z",
          "iopub.execute_input": "2024-12-09T17:37:49.989938Z",
          "iopub.status.idle": "2024-12-09T17:37:50.153282Z",
          "shell.execute_reply.started": "2024-12-09T17:37:49.989894Z",
          "shell.execute_reply": "2024-12-09T17:37:50.15233Z"
        },
        "id": "BTsAgHhEjzVA"
      },
      "outputs": [],
      "execution_count": null
    },
    {
      "cell_type": "markdown",
      "source": [
        "# Baseline Models"
      ],
      "metadata": {
        "id": "26K9kS_JjzVA"
      }
    },
    {
      "cell_type": "code",
      "source": [
        "cat_boost = CatBoostClassifier(verbose=0, n_estimators=100)\n",
        "cat_boost.fit(x_train, y_train)\n",
        "y_pred_cat_boost=cat_boost.predict(x_val)\n",
        "# Performance Evaluation\n",
        "print(\"Accuracy:\",accuracy_score(y_val, y_pred_cat_boost))\n",
        "print(\"Precision:\",precision_score(y_val, y_pred_cat_boost))\n",
        "print(\"Recall:\",recall_score(y_val, y_pred_cat_boost))\n",
        "print(\"F1 score:\",f1_score(y_val, y_pred_cat_boost))\n",
        "\n",
        "#print(classification_report(y_test, y_pred))\n",
        "y_pred_proba = cat_boost.predict_proba(x_val)[:,1]\n",
        "print(\"AUC score:\",roc_auc_score(y_val, y_pred_proba))\n",
        "\n",
        "plot_confusion_matrix(cat_boost, x_val, y_val)"
      ],
      "metadata": {
        "trusted": true,
        "execution": {
          "iopub.status.busy": "2024-12-09T17:37:50.154325Z",
          "iopub.execute_input": "2024-12-09T17:37:50.154627Z",
          "iopub.status.idle": "2024-12-09T17:37:54.499543Z",
          "shell.execute_reply.started": "2024-12-09T17:37:50.154596Z",
          "shell.execute_reply": "2024-12-09T17:37:54.49855Z"
        },
        "id": "0FcfTsC3jzVA"
      },
      "outputs": [],
      "execution_count": null
    },
    {
      "cell_type": "code",
      "source": [
        "y_pred_cat_boost=cat_boost.predict(test)\n",
        "submission = test_dataset[['encounter_id']]\n",
        "submission['diabetes_mellitus'] = cat_boost.predict_proba(test)[:,1]\n",
        "submission.to_csv('cat_boost_baseline.csv',index=False)\n",
        "submission.head()"
      ],
      "metadata": {
        "trusted": true,
        "execution": {
          "iopub.status.busy": "2024-12-09T17:37:54.501004Z",
          "iopub.execute_input": "2024-12-09T17:37:54.501411Z",
          "iopub.status.idle": "2024-12-09T17:37:54.692374Z",
          "shell.execute_reply.started": "2024-12-09T17:37:54.501379Z",
          "shell.execute_reply": "2024-12-09T17:37:54.691372Z"
        },
        "id": "IseKSPEZjzVA"
      },
      "outputs": [],
      "execution_count": null
    },
    {
      "cell_type": "code",
      "source": [
        "random_forest = RandomForestClassifier(n_estimators=100, random_state=40, verbose = 1, n_jobs = -1)\n",
        "random_forest.fit(x_train, y_train)\n",
        "y_pred_rf=random_forest.predict(x_val)\n",
        "# Performance Evaluation\n",
        "print(\"Accuracy:\",accuracy_score(y_val, y_pred_rf))\n",
        "print(\"Precision:\",precision_score(y_val, y_pred_rf))\n",
        "print(\"Recall:\",recall_score(y_val, y_pred_rf))\n",
        "print(\"F1 score:\",f1_score(y_val, y_pred_rf))\n",
        "\n",
        "#print(classification_report(y_test, y_pred))\n",
        "y_pred_proba = random_forest.predict_proba(x_val)[:,1]\n",
        "print(\"AUC score:\",roc_auc_score(y_val, y_pred_proba))\n",
        "\n",
        "plot_confusion_matrix(random_forest, x_val, y_val)"
      ],
      "metadata": {
        "trusted": true,
        "execution": {
          "iopub.status.busy": "2024-12-09T17:37:54.694153Z",
          "iopub.execute_input": "2024-12-09T17:37:54.69447Z",
          "iopub.status.idle": "2024-12-09T17:38:13.945184Z",
          "shell.execute_reply.started": "2024-12-09T17:37:54.694435Z",
          "shell.execute_reply": "2024-12-09T17:38:13.943954Z"
        },
        "id": "1Qm90Xz2jzVA"
      },
      "outputs": [],
      "execution_count": null
    },
    {
      "cell_type": "code",
      "source": [
        "def plot_feature_importances(df):\n",
        "    \"\"\"\n",
        "    Plot importances returned by a model. This can work with any measure of\n",
        "    feature importance provided that higher importance is better.\n",
        "\n",
        "    Args:\n",
        "        df (dataframe): feature importances. Must have the features in a column\n",
        "        called `features` and the importances in a column called `importance\n",
        "\n",
        "    Returns:\n",
        "        shows a plot of the 15 most importance features\n",
        "\n",
        "        df (dataframe): feature importances sorted by importance (highest to lowest)\n",
        "        with a column for normalized importance\n",
        "        \"\"\"\n",
        "\n",
        "    # Sort features according to importance\n",
        "    df = df.sort_values('importance', ascending = False).reset_index()\n",
        "\n",
        "    # Normalize the feature importances to add up to one\n",
        "    df['importance_normalized'] = df['importance'] / df['importance'].sum()\n",
        "\n",
        "    # Make a horizontal bar chart of feature importances\n",
        "    plt.figure(figsize = (10, 6))\n",
        "    ax = plt.subplot()\n",
        "\n",
        "    # Need to reverse the index to plot most important on top\n",
        "    ax.barh(list(reversed(list(df.index[:15]))),\n",
        "            df['importance_normalized'].head(15),\n",
        "            align = 'center', edgecolor = 'k')\n",
        "\n",
        "    # Set the yticks and labels\n",
        "    ax.set_yticks(list(reversed(list(df.index[:15]))))\n",
        "    ax.set_yticklabels(df['feature'].head(15))\n",
        "    # Plot labeling\n",
        "    plt.xlabel('Normalized Importance'); plt.title('Feature Importances')\n",
        "    plt.show()\n",
        "\n",
        "    return df"
      ],
      "metadata": {
        "trusted": true,
        "execution": {
          "iopub.status.busy": "2024-12-09T17:38:13.946752Z",
          "iopub.execute_input": "2024-12-09T17:38:13.947171Z",
          "iopub.status.idle": "2024-12-09T17:38:13.956966Z",
          "shell.execute_reply.started": "2024-12-09T17:38:13.947125Z",
          "shell.execute_reply": "2024-12-09T17:38:13.956145Z"
        },
        "id": "VIe8cZQFjzVA"
      },
      "outputs": [],
      "execution_count": null
    },
    {
      "cell_type": "code",
      "source": [
        "# Extract feature importances\n",
        "features = list(x_train.columns)\n",
        "feature_importance_values = random_forest.feature_importances_\n",
        "feature_importances = pd.DataFrame({'feature': features, 'importance': feature_importance_values})\n",
        "# Show the feature importances for the default features\n",
        "feature_importances_sorted = plot_feature_importances(feature_importances)"
      ],
      "metadata": {
        "trusted": true,
        "execution": {
          "iopub.status.busy": "2024-12-09T17:38:13.958149Z",
          "iopub.execute_input": "2024-12-09T17:38:13.958429Z",
          "iopub.status.idle": "2024-12-09T17:38:14.261672Z",
          "shell.execute_reply.started": "2024-12-09T17:38:13.958401Z",
          "shell.execute_reply": "2024-12-09T17:38:14.260678Z"
        },
        "id": "pA9_EExcjzVB"
      },
      "outputs": [],
      "execution_count": null
    },
    {
      "cell_type": "code",
      "source": [
        "xgb = XGBClassifier(random_state =40)\n",
        "xgb.fit(x_train, y_train)\n",
        "y_pred_xgb=xgb.predict(x_val)\n",
        "# Performance Evaluation\n",
        "print(\"Accuracy:\",accuracy_score(y_val, y_pred_xgb))\n",
        "print(\"Precision:\",precision_score(y_val, y_pred_xgb))\n",
        "print(\"Recall:\",recall_score(y_val, y_pred_xgb))\n",
        "print(\"F1 score:\",f1_score(y_val, y_pred_xgb))\n",
        "\n",
        "#print(classification_report(y_test, y_pred))\n",
        "y_pred_proba = xgb.predict_proba(x_val)[:,1]\n",
        "print(\"AUC score:\",roc_auc_score(y_val, y_pred_proba))\n",
        "\n",
        "plot_confusion_matrix(xgb, x_val, y_val)"
      ],
      "metadata": {
        "trusted": true,
        "execution": {
          "iopub.status.busy": "2024-12-09T17:38:14.262893Z",
          "iopub.execute_input": "2024-12-09T17:38:14.263162Z",
          "iopub.status.idle": "2024-12-09T17:38:35.453765Z",
          "shell.execute_reply.started": "2024-12-09T17:38:14.263135Z",
          "shell.execute_reply": "2024-12-09T17:38:35.452821Z"
        },
        "id": "VeKj2Ef5jzVB"
      },
      "outputs": [],
      "execution_count": null
    },
    {
      "cell_type": "code",
      "source": [
        "#features = list(x_train.columns)\n",
        "feature_importance_values = xgb.feature_importances_\n",
        "feature_importances = pd.DataFrame({'feature': features, 'importance': feature_importance_values})\n",
        "# Show the feature importances for the default features\n",
        "feature_importances_sorted = plot_feature_importances(feature_importances)"
      ],
      "metadata": {
        "trusted": true,
        "execution": {
          "iopub.status.busy": "2024-12-09T17:38:35.455182Z",
          "iopub.execute_input": "2024-12-09T17:38:35.455455Z",
          "iopub.status.idle": "2024-12-09T17:38:35.734446Z",
          "shell.execute_reply.started": "2024-12-09T17:38:35.455428Z",
          "shell.execute_reply": "2024-12-09T17:38:35.733374Z"
        },
        "id": "czuM_UBcjzVB"
      },
      "outputs": [],
      "execution_count": null
    },
    {
      "cell_type": "code",
      "source": [
        "y_pred_xgb=xgb.predict(test)\n",
        "submission = test_dataset[['encounter_id']]\n",
        "submission['diabetes_mellitus'] = xgb.predict_proba(test)[:,1]\n",
        "submission.to_csv('xgb_baseline.csv',index=False)\n",
        "submission.head()"
      ],
      "metadata": {
        "trusted": true,
        "execution": {
          "iopub.status.busy": "2024-12-09T17:38:35.740124Z",
          "iopub.execute_input": "2024-12-09T17:38:35.740429Z",
          "iopub.status.idle": "2024-12-09T17:38:35.897663Z",
          "shell.execute_reply.started": "2024-12-09T17:38:35.7404Z",
          "shell.execute_reply": "2024-12-09T17:38:35.895919Z"
        },
        "id": "YwUCatlxjzVB"
      },
      "outputs": [],
      "execution_count": null
    },
    {
      "cell_type": "code",
      "source": [
        "#lightGBM\n",
        "lgb = lgb.LGBMClassifier(silent=False)\n",
        "lgb.fit(x_train, y_train)\n",
        "y_pred_lgb=lgb.predict(x_val)\n",
        "# Performance Evaluation\n",
        "print(\"Accuracy:\",accuracy_score(y_val, y_pred_lgb))\n",
        "print(\"Precision:\",precision_score(y_val, y_pred_lgb))\n",
        "print(\"Recall:\",recall_score(y_val, y_pred_lgb))\n",
        "print(\"F1 score:\",f1_score(y_val, y_pred_lgb))\n",
        "\n",
        "#print(classification_report(y_test, y_pred))\n",
        "y_pred_proba = lgb.predict_proba(x_val)[:,1]\n",
        "print(\"AUC score:\",roc_auc_score(y_val, y_pred_proba))\n",
        "plot_confusion_matrix(lgb, x_val, y_val)"
      ],
      "metadata": {
        "trusted": true,
        "execution": {
          "iopub.status.busy": "2024-12-09T17:38:35.899252Z",
          "iopub.execute_input": "2024-12-09T17:38:35.899613Z",
          "iopub.status.idle": "2024-12-09T17:38:40.977859Z",
          "shell.execute_reply.started": "2024-12-09T17:38:35.899574Z",
          "shell.execute_reply": "2024-12-09T17:38:40.976977Z"
        },
        "id": "_OMGmJRujzVG"
      },
      "outputs": [],
      "execution_count": null
    },
    {
      "cell_type": "code",
      "source": [
        "feature_importance_values = lgb.feature_importances_\n",
        "feature_importances = pd.DataFrame({'feature': features, 'importance': feature_importance_values})\n",
        "# Show the feature importances for the default features\n",
        "feature_importances_sorted = plot_feature_importances(feature_importances)"
      ],
      "metadata": {
        "trusted": true,
        "execution": {
          "iopub.status.busy": "2024-12-09T17:38:40.979175Z",
          "iopub.execute_input": "2024-12-09T17:38:40.979472Z",
          "iopub.status.idle": "2024-12-09T17:38:41.175588Z",
          "shell.execute_reply.started": "2024-12-09T17:38:40.97944Z",
          "shell.execute_reply": "2024-12-09T17:38:41.174665Z"
        },
        "id": "fXVLWjj0jzVG"
      },
      "outputs": [],
      "execution_count": null
    },
    {
      "cell_type": "code",
      "source": [
        "y_pred_lgb=lgb.predict(test)\n",
        "submission = test_dataset[['encounter_id']]\n",
        "submission['diabetes_mellitus'] = lgb.predict_proba(test)[:,1]\n",
        "submission.to_csv('lgb_baseline.csv',index=False)\n",
        "submission.head()"
      ],
      "metadata": {
        "trusted": true,
        "execution": {
          "iopub.status.busy": "2024-12-09T17:38:41.176988Z",
          "iopub.execute_input": "2024-12-09T17:38:41.177277Z",
          "iopub.status.idle": "2024-12-09T17:38:41.324045Z",
          "shell.execute_reply.started": "2024-12-09T17:38:41.177247Z",
          "shell.execute_reply": "2024-12-09T17:38:41.321866Z"
        },
        "id": "f5za9eb_jzVG"
      },
      "outputs": [],
      "execution_count": null
    },
    {
      "cell_type": "code",
      "source": [
        "gbc=HistGradientBoostingClassifier(random_state=40).fit(x_train,y_train)\n",
        "y_pred_gbc=gbc.predict(x_val)\n",
        "# Performance Evaluation\n",
        "print(\"Accuracy:\",accuracy_score(y_val, y_pred_gbc))\n",
        "print(\"Precision:\",precision_score(y_val, y_pred_gbc))\n",
        "print(\"Recall:\",recall_score(y_val, y_pred_gbc))\n",
        "print(\"F1 score:\",f1_score(y_val, y_pred_gbc))\n",
        "\n",
        "#print(classification_report(y_test, y_pred))\n",
        "y_pred_proba = gbc.predict_proba(x_val)[:,1]\n",
        "print(\"AUC score:\",roc_auc_score(y_val, y_pred_proba))\n",
        "plot_confusion_matrix(gbc, x_val, y_val)\n"
      ],
      "metadata": {
        "trusted": true,
        "execution": {
          "iopub.status.busy": "2024-12-09T17:38:41.326048Z",
          "iopub.execute_input": "2024-12-09T17:38:41.326429Z",
          "iopub.status.idle": "2024-12-09T17:38:48.080279Z",
          "shell.execute_reply.started": "2024-12-09T17:38:41.326392Z",
          "shell.execute_reply": "2024-12-09T17:38:48.079177Z"
        },
        "id": "rdompXfrjzVG"
      },
      "outputs": [],
      "execution_count": null
    },
    {
      "cell_type": "code",
      "source": [
        "y_pred_gbc=gbc.predict(test)\n",
        "submission = test_dataset[['encounter_id']]\n",
        "submission['diabetes_mellitus'] = gbc.predict_proba(test)[:,1]\n",
        "submission.to_csv('lgb_baseline.csv',index=False)\n",
        "submission.head()"
      ],
      "metadata": {
        "trusted": true,
        "execution": {
          "iopub.status.busy": "2024-12-09T17:38:48.08148Z",
          "iopub.execute_input": "2024-12-09T17:38:48.081803Z",
          "iopub.status.idle": "2024-12-09T17:38:48.216029Z",
          "shell.execute_reply.started": "2024-12-09T17:38:48.081773Z",
          "shell.execute_reply": "2024-12-09T17:38:48.212598Z"
        },
        "id": "nBLPETrzjzVG"
      },
      "outputs": [],
      "execution_count": null
    },
    {
      "cell_type": "markdown",
      "source": [
        "# **Hyperparameter Tuning**\n"
      ],
      "metadata": {
        "id": "RkTxnUgRjzVG"
      }
    },
    {
      "cell_type": "markdown",
      "source": [
        "**Tuning XGBoost Classifier**"
      ],
      "metadata": {
        "id": "1scpSwOtjzVG"
      }
    },
    {
      "cell_type": "code",
      "source": [
        "xgb = XGBClassifier(\n",
        "                        n_estimators=200,\n",
        "                        max_depth=8,\n",
        "                        learning_rate=0.05,\n",
        "                        subsample=0.8,\n",
        "                        min_child_weight=10,\n",
        "                        colsample_bytree=0.8\n",
        "                       )\n",
        "xgb.fit(x_train, y_train)\n",
        "y_pred_xgb=xgb.predict(x_val)\n",
        "# Performance Evaluation\n",
        "print(\"Accuracy:\",accuracy_score(y_val, y_pred_xgb))\n",
        "print(\"Precision:\",precision_score(y_val, y_pred_xgb))\n",
        "print(\"Recall:\",recall_score(y_val, y_pred_xgb))\n",
        "print(\"F1 score:\",f1_score(y_val, y_pred_xgb))\n",
        "\n",
        "#print(classification_report(y_test, y_pred))\n",
        "y_pred_proba = xgb.predict_proba(x_val)[:,1]\n",
        "print(\"AUC score:\",roc_auc_score(y_val, y_pred_proba))\n",
        "\n",
        "plot_confusion_matrix(xgb, x_val, y_val)\n"
      ],
      "metadata": {
        "trusted": true,
        "execution": {
          "iopub.status.busy": "2024-12-09T17:38:48.217267Z",
          "iopub.execute_input": "2024-12-09T17:38:48.220679Z",
          "iopub.status.idle": "2024-12-09T17:39:41.926361Z",
          "shell.execute_reply.started": "2024-12-09T17:38:48.220629Z",
          "shell.execute_reply": "2024-12-09T17:39:41.925343Z"
        },
        "id": "B8oVUJu5jzVG"
      },
      "outputs": [],
      "execution_count": null
    },
    {
      "cell_type": "code",
      "source": [
        "submission = test_dataset[['encounter_id']]\n",
        "submission['diabetes_mellitus'] = xgb.predict_proba(test)[:,1]\n",
        "submission.to_csv('xgb_tuned.csv',index=False)\n",
        "submission.head()"
      ],
      "metadata": {
        "trusted": true,
        "execution": {
          "iopub.status.busy": "2024-12-09T17:39:41.928203Z",
          "iopub.execute_input": "2024-12-09T17:39:41.928669Z",
          "iopub.status.idle": "2024-12-09T17:39:42.161045Z",
          "shell.execute_reply.started": "2024-12-09T17:39:41.928615Z",
          "shell.execute_reply": "2024-12-09T17:39:42.158936Z"
        },
        "id": "LYJho87XjzVH"
      },
      "outputs": [],
      "execution_count": null
    },
    {
      "cell_type": "markdown",
      "source": [
        "# **LightGBM**"
      ],
      "metadata": {
        "id": "0L8aCTzTjzVH"
      }
    },
    {
      "cell_type": "code",
      "source": [
        "#lightGBM\n",
        "import lightgbm as lgb\n",
        "lgb = lgb.LGBMClassifier(boosting_type= 'gbdt',\n",
        "        objective= 'binary', metric= 'auc',\n",
        "        learning_rate= 0.007, subsample= 1,\n",
        "        colsample_bytree=  0.2,\n",
        "        reg_alpha= 3, reg_lambda= 1,\n",
        "        scale_pos_weight= 4, n_estimators= 10000,\n",
        "        verbose= 1, max_depth=  -1, seed= 100,\n",
        "        force_col_wise= True)\n",
        "lgb.fit(x_train, y_train)\n",
        "y_pred_lgb=lgb.predict(x_val)\n",
        "# Performance Evaluation\n",
        "print(\"Accuracy:\",accuracy_score(y_val, y_pred_lgb))\n",
        "print(\"Precision:\",precision_score(y_val, y_pred_lgb))\n",
        "print(\"Recall:\",recall_score(y_val, y_pred_lgb))\n",
        "print(\"F1 score:\",f1_score(y_val, y_pred_lgb))\n",
        "\n",
        "#print(classification_report(y_test, y_pred))\n",
        "y_pred_proba = lgb.predict_proba(x_val)[:,1]\n",
        "print(\"AUC score:\",roc_auc_score(y_val, y_pred_proba))\n",
        "plot_confusion_matrix(lgb, x_val, y_val)"
      ],
      "metadata": {
        "trusted": true,
        "execution": {
          "iopub.status.busy": "2024-12-09T17:39:42.163062Z",
          "iopub.execute_input": "2024-12-09T17:39:42.163452Z",
          "iopub.status.idle": "2024-12-09T17:41:37.592066Z",
          "shell.execute_reply.started": "2024-12-09T17:39:42.163409Z",
          "shell.execute_reply": "2024-12-09T17:41:37.590901Z"
        },
        "id": "Pv4IVhe_jzVH"
      },
      "outputs": [],
      "execution_count": null
    },
    {
      "cell_type": "code",
      "source": [
        "feature_importance_values = lgb.feature_importances_\n",
        "feature_importances = pd.DataFrame({'feature': features, 'importance': feature_importance_values})\n",
        "# Show the feature importances for the default features\n",
        "feature_importances_sorted = plot_feature_importances(feature_importances)"
      ],
      "metadata": {
        "trusted": true,
        "execution": {
          "iopub.status.busy": "2024-12-09T17:41:37.593663Z",
          "iopub.execute_input": "2024-12-09T17:41:37.594076Z",
          "iopub.status.idle": "2024-12-09T17:41:37.784283Z",
          "shell.execute_reply.started": "2024-12-09T17:41:37.59403Z",
          "shell.execute_reply": "2024-12-09T17:41:37.783199Z"
        },
        "id": "xI7LOLgjjzVH"
      },
      "outputs": [],
      "execution_count": null
    },
    {
      "cell_type": "code",
      "source": [
        "y_pred_lgb=lgb.predict(test)\n",
        "submission = test_dataset[['encounter_id']]\n",
        "submission['diabetes_mellitus'] = lgb.predict_proba(test)[:,1]\n",
        "submission.to_csv('lgb_tuned.csv',index=False)\n",
        "submission.head()"
      ],
      "metadata": {
        "trusted": true,
        "execution": {
          "iopub.status.busy": "2024-12-09T17:41:37.786154Z",
          "iopub.execute_input": "2024-12-09T17:41:37.786652Z",
          "iopub.status.idle": "2024-12-09T17:41:47.646892Z",
          "shell.execute_reply.started": "2024-12-09T17:41:37.786601Z",
          "shell.execute_reply": "2024-12-09T17:41:47.645974Z"
        },
        "id": "9n0lOygcjzVH"
      },
      "outputs": [],
      "execution_count": null
    },
    {
      "cell_type": "code",
      "source": [
        "import lightgbm as lgb\n",
        "xgb = XGBClassifier(\n",
        "                        n_estimators=200,\n",
        "                        max_depth=8,\n",
        "                        learning_rate=0.05,\n",
        "                        subsample=0.8,\n",
        "                        min_child_weight=10,\n",
        "                        colsample_bytree=0.8\n",
        "                       )\n",
        "\n",
        "#lightGBM\n",
        "lgb = lgb.LGBMClassifier(boosting_type= 'gbdt',\n",
        "        objective= 'binary', metric= 'auc',\n",
        "        learning_rate= 0.007, subsample= 1,\n",
        "        colsample_bytree=  0.2,\n",
        "        reg_alpha= 3, reg_lambda= 1,\n",
        "        scale_pos_weight= 4, n_estimators= 10000,\n",
        "        verbose= 1, max_depth=  -1, seed= 100,\n",
        "        force_col_wise= True)\n",
        "\n",
        "gbc=HistGradientBoostingClassifier(random_state=40)\n",
        "voting_classifier = VotingClassifier(estimators=[('xgb', xgb), ('lgb', lgb), ('gbc', gbc)], voting='soft', weights=[1, 3, 1])\n",
        "voting_classifier.fit(x_train, y_train)\n",
        "voting_pred = voting_classifier.predict(x_val)\n",
        "\n",
        "# Performance Evaluation\n",
        "print(\"Accuracy:\",accuracy_score(y_val, voting_pred))\n",
        "print(\"Precision:\",precision_score(y_val, voting_pred))\n",
        "print(\"Recall:\",recall_score(y_val, voting_pred))\n",
        "print(\"F1 score:\",f1_score(y_val, voting_pred))\n",
        "\n",
        "#print(classification_report(y_test, y_pred))\n",
        "y_pred_proba = voting_classifier.predict_proba(x_val)[:,1]\n",
        "print(\"AUC score:\",roc_auc_score(y_val, y_pred_proba))\n",
        "plot_confusion_matrix(voting_classifier, x_val, y_val)"
      ],
      "metadata": {
        "trusted": true,
        "execution": {
          "iopub.status.busy": "2024-12-09T17:41:47.648394Z",
          "iopub.execute_input": "2024-12-09T17:41:47.649025Z",
          "iopub.status.idle": "2024-12-09T17:44:41.592399Z",
          "shell.execute_reply.started": "2024-12-09T17:41:47.648984Z",
          "shell.execute_reply": "2024-12-09T17:44:41.591473Z"
        },
        "id": "6HbdBp6DjzVH"
      },
      "outputs": [],
      "execution_count": null
    },
    {
      "cell_type": "code",
      "source": [
        "submission = test_dataset[['encounter_id']]\n",
        "submission['diabetes_mellitus'] = voting_classifier.predict_proba(test)[:,1]\n",
        "submission.to_csv('voting_baseline.csv',index=False)\n",
        "submission.head()"
      ],
      "metadata": {
        "trusted": true,
        "execution": {
          "iopub.status.busy": "2024-12-09T17:44:41.593904Z",
          "iopub.execute_input": "2024-12-09T17:44:41.594173Z",
          "iopub.status.idle": "2024-12-09T17:44:45.882332Z",
          "shell.execute_reply.started": "2024-12-09T17:44:41.594146Z",
          "shell.execute_reply": "2024-12-09T17:44:45.880796Z"
        },
        "id": "bX0Yf_8kjzVH"
      },
      "outputs": [],
      "execution_count": null
    },
    {
      "cell_type": "markdown",
      "source": [
        "References\n",
        "\n",
        "* https://scikit-learn.org/stable/auto_examples/compose/plot_digits_pipe.html#sphx-glr-auto-examples-compose-plot-digits-pipe-py\n",
        "\n",
        "* https://www.kaggle.com/iamleonie/wids-datathon-2021-diabetes-detection\n",
        "\n",
        "* https://www.kaggle.com/paolagasp/wids-eda-building-models\n",
        "\n",
        "* https://towardsdatascience.com/improving-random-forest-in-python-part-1-893916666cd\n",
        "\n",
        "* https://www.kaggle.com/cosmosankur/xgboost-classifier#SELECTING-TRAIN-AND-TEST-DATA\n",
        "\n",
        "* https://www.kaggle.com/parulpandey/starter-code-with-baseline\n",
        "\n",
        "* https://www.datacamp.com/community/tutorials/categorical-data\n",
        "\n",
        "* https://www.kaggle.com/srinidhi123/wids2020-ensemblelearning-votingclassifier/comments\n",
        "\n",
        "* https://www.kaggle.com/willkoehrsen/automated-model-tuning\n",
        "\n",
        "* https://www.kaggle.com/c/widsdatathon2021/discussion/209053\n",
        "\n",
        "* https://www.kaggle.com/nasere/wids2021-using-lightgbm-encoding"
      ],
      "metadata": {
        "id": "SkZIrI-hjzVH"
      }
    }
  ]
}